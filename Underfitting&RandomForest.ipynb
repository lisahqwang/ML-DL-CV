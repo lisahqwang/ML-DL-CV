{
 "cells": [
  {
   "cell_type": "code",
   "execution_count": null,
   "id": "7be3b6af",
   "metadata": {},
   "outputs": [],
   "source": [
    "from sklearn.metrics import mean_absolute_error\n",
    "from sklearn.tree import DecisionTreeRegressor\n",
    "from sklearn.ensemble import RandomForestRegressor \n",
    "\n",
    "def get_mae(max_leaf_nodes, train_X, val_X, train_y, val_y):\n",
    "    ''' utility function to compare MAE scores'''\n",
    "    model = DecisionTreeRegressor(max_leaf_nodes=max_leaf_nodes, random_state=0)\n",
    "    model.fit(train_X, train_y)\n",
    "    preds_val = model.predict(val_X)\n",
    "    mae = mean_absolute_error(val_y, preds_val)\n",
    "    return(mae)\n",
    "\n",
    "#the more leafs we allow the model to make, more we move from underfitting to overfitting\n",
    "\n",
    "# accuracy vs. max number of leaf_nodes\n",
    "\n",
    "for max_leaf_nodes in [5, 50, 500, 5000]: \n",
    "    my_mae = get_mae(max_leaf_nodes, train_X, val_X, train_y, val_y)\n",
    "    print(\"Max leaf nodes: \\t\\t Mean Absolute Error:  %d\" %(max_leaf_nodes, my_mae))\n",
    "\n",
    "for leaf_size in candidate_max_leaf_nodes: \n",
    "    scores = {leaf_size: get_mae(leaf_size, train_X, val_X, train_y, val_y) for leaf_size in candidate_max_leaf_nodes}\n",
    "    \n",
    "best_tree_size = min(scores, key = scores.get)\n",
    "\n",
    "# now that we know the best tree size, fit model using All Data\n",
    "\n",
    "final_model = DecisionTreeRegressor(max_leaf_nodes = best_tree_size, random_state = 1)\n",
    "final_model.fit(X, y)\n",
    "\n",
    "# random forest uses many trees, and makes a prediction by averaging the predictions of \n",
    "# each component tree. \n",
    "forest_model = RandomForestRegressor(random_state = 1) \n",
    "forest_model.fit(train_X, train_y)\n",
    "melb_preds = forest_model.predict(val_X)\n",
    "\n",
    "#Replace decision tree with Random Forest \n",
    "rf_model = RandomForestRegressor(random_state = 1) #the same as RandomForestRegressor()\n",
    "rf_model.fit(train_X, train_y)\n",
    "rf_predictions = rf_model.predict(val_X)\n",
    "rf_val_mae = mean_absolute_error(rf_predictions, val_y)\n",
    "\n",
    "# save predictions in competition format \n",
    "output = pd.DataFrame({'Id': test_data.Id, 'SalePrice': test_preds})\n",
    "output.to_csv('submission.csv', index = False)"
   ]
  }
 ],
 "metadata": {
  "kernelspec": {
   "display_name": "Python 3 (ipykernel)",
   "language": "python",
   "name": "python3"
  },
  "language_info": {
   "codemirror_mode": {
    "name": "ipython",
    "version": 3
   },
   "file_extension": ".py",
   "mimetype": "text/x-python",
   "name": "python",
   "nbconvert_exporter": "python",
   "pygments_lexer": "ipython3",
   "version": "3.9.12"
  }
 },
 "nbformat": 4,
 "nbformat_minor": 5
}
