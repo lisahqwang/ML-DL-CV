{
 "cells": [
  {
   "cell_type": "code",
   "execution_count": null,
   "id": "f98f96e9",
   "metadata": {},
   "outputs": [],
   "source": [
    "## What is Model Validation - Mean Absolute Error \n",
    "# from sklearn.metrics import mean_absolute_error \n",
    "# predicted_home_prices = melbourne_model.predict(X) \n",
    "# mean_absolute_error(y, predicted_home_prices) \n",
    "\n",
    "## introduce validation data by splitting \n",
    "# from sklearn.model_selection import train_test_split \n",
    "# split data into training and validation data, for both features and target.The split is based on a random number generator. Supplying a numeric value to the random_state argument guarantees we get the same split every time we run this script. \n",
    "\n",
    "## Beginning of Model Validation \n",
    "\n",
    "import pandas as pd \n",
    "from sklearn.tree import DecisionTreeRegressor \n",
    "\n",
    "iowa_file_path = '../input/home-data-for-ml-course/train.csv'\n",
    "home_data = pd.read_csv(iowa_file_path)\n",
    "y = home_data.SalePrice \n",
    "feature_columns = ['LotArea', 'YearBuilt', '1stFlrSF', '2ndFlrSF', 'FullBath', 'BedroomAbvGr', 'TotRmsAbvGrd']\n",
    "X = home_data[feature_columns]\n",
    "\n",
    "#specify model \n",
    "iowa_model = DecisionTreeRegressor()\n",
    "#fit model \n",
    "iowa_model.fit(X, y)\n",
    "\n",
    "print(\"First in-sample predictions:\", iowa_model.predict(X.head()))\n",
    "print(\"Actual target values for those homes:\", y.head().tolist())\n",
    "\n",
    "## Now using Validation data \n",
    "# step 1: split data \n",
    "from sklearn.model_selection import train_test_split \n",
    "\n",
    "train_X, val_X, train_y, val_y = train_test_split(X, y, random_state = 1)\n",
    "\n",
    "# step 2: specify and fit the model \n",
    "iowa_model = DecisionTreeRegressor(random_state = 1) #specify model\n",
    "iowa_model.fit(train_X, train_y) #fitting\n",
    "\n",
    "# step 3: make predictions with validation data \n",
    "val_predictions = iowa_model.predict(val_X) #print the top few validation predictions\n",
    "print(iowa_model.predict(val_X.head())) #print the top few actual prices from validation data\n",
    "print(val_y.head().tolist())\n",
    "\n",
    "#step 4: Calculate the Mean Absolute Error in Validation Data \n",
    "from sklearn.metrics import mean_absolute_error \n",
    "val_mae = mean_absolute_error(val_y, val_predictions)\n"
   ]
  },
  {
   "cell_type": "code",
   "execution_count": null,
   "id": "8a21207d",
   "metadata": {},
   "outputs": [],
   "source": []
  }
 ],
 "metadata": {
  "kernelspec": {
   "display_name": "Python 3 (ipykernel)",
   "language": "python",
   "name": "python3"
  },
  "language_info": {
   "codemirror_mode": {
    "name": "ipython",
    "version": 3
   },
   "file_extension": ".py",
   "mimetype": "text/x-python",
   "name": "python",
   "nbconvert_exporter": "python",
   "pygments_lexer": "ipython3",
   "version": "3.9.12"
  }
 },
 "nbformat": 4,
 "nbformat_minor": 5
}
