{
  "nbformat": 4,
  "nbformat_minor": 0,
  "metadata": {
    "colab": {
      "provenance": [],
      "include_colab_link": true
    },
    "kernelspec": {
      "name": "python3",
      "display_name": "Python 3"
    }
  },
  "cells": [
    {
      "cell_type": "markdown",
      "metadata": {
        "id": "view-in-github",
        "colab_type": "text"
      },
      "source": [
        "<a href=\"https://colab.research.google.com/github/lisahqwang/ML-DL-CV/blob/main/HandwrittenDigitClassifier.ipynb\" target=\"_parent\"><img src=\"https://colab.research.google.com/assets/colab-badge.svg\" alt=\"Open In Colab\"/></a>"
      ]
    },
    {
      "cell_type": "markdown",
      "metadata": {
        "id": "eH4zDb_Q7s5O"
      },
      "source": [
        "\n",
        "# Block 1 - Imports\n",
        "\n",
        "\n"
      ]
    },
    {
      "cell_type": "code",
      "metadata": {
        "id": "hFtEaIvPKgIy"
      },
      "source": [
        "from numpy import mean\n",
        "from numpy import std\n",
        "from matplotlib import pyplot\n",
        "from sklearn.model_selection import KFold\n",
        "from keras.datasets import mnist\n",
        "from keras.utils import to_categorical\n",
        "from keras.models import Sequential\n",
        "from keras.layers import Conv2D\n",
        "from keras.layers import MaxPooling2D\n",
        "from keras.layers import Dense\n",
        "from keras.layers import Flatten\n",
        "from keras.optimizers import SGD"
      ],
      "execution_count": 1,
      "outputs": []
    },
    {
      "cell_type": "markdown",
      "metadata": {
        "id": "-jTzMYDv71eV"
      },
      "source": [
        "# Block 2 - Load data from MNIST dataset\n"
      ]
    },
    {
      "cell_type": "code",
      "metadata": {
        "id": "XOgaOraMKJB_",
        "outputId": "07513079-45e7-41f1-e5e1-7a0303b3edf8",
        "colab": {
          "base_uri": "https://localhost:8080/",
          "height": 207
        }
      },
      "source": [
        "(trainX, trainY), (testX, testY) = mnist.load_data()\n",
        "print('Train: X=%s, y=%s' % (trainX.shape, trainY.shape))\n",
        "print('Test: X=%s, y=%s' % (testX.shape, testY.shape))\n",
        "\n",
        "pyplot.subplot(330 + 1 )\n",
        "pyplot.imshow(trainX[0], cmap=pyplot.get_cmap('gray'))\n",
        "pyplot.show()"
      ],
      "execution_count": 5,
      "outputs": [
        {
          "output_type": "stream",
          "name": "stdout",
          "text": [
            "Train: X=(60000, 28, 28), y=(60000,)\n",
            "Test: X=(10000, 28, 28), y=(10000,)\n"
          ]
        },
        {
          "output_type": "display_data",
          "data": {
            "text/plain": [
              "<Figure size 640x480 with 1 Axes>"
            ],
            "image/png": "[encoded data removed]"
          },
          "metadata": {}
        }
      ]
    },
    {
      "cell_type": "markdown",
      "metadata": {
        "id": "HcQrlLHQ75oq"
      },
      "source": [
        "# Block 3 - Pre-processing\n"
      ]
    },
    {
      "cell_type": "code",
      "metadata": {
        "id": "55JEiVL6qxg1",
        "outputId": "4a93378e-db3f-43e0-c90c-605d177ca8ad",
        "colab": {
          "base_uri": "https://localhost:8080/"
        }
      },
      "source": [
        "\n",
        "# reshape dataset to have a single channel\n",
        "trainX = trainX.reshape((trainX.shape[0], 28, 28, 1))\n",
        "testX = testX.reshape((testX.shape[0], 28, 28, 1))\n",
        "\n",
        "# one hot encode target values - since output is vector of 10 values\n",
        "trainY = to_categorical(trainY)\n",
        "testY = to_categorical(testY)\n",
        "\n",
        "print('Train: X=%s, y=%s' % (trainX.shape, trainY.shape))\n",
        "print('Test: X=%s, y=%s' % (testX.shape, testY.shape))\n",
        "\n",
        "# convert from integers to floats\n",
        "train_norm = trainX.astype('float32')\n",
        "test_norm = testX.astype('float32')\n",
        "\n",
        "# normalize to range 0-1\n",
        "trainX = train_norm / 255.0\n",
        "testX = test_norm / 255.0"
      ],
      "execution_count": 6,
      "outputs": [
        {
          "output_type": "stream",
          "name": "stdout",
          "text": [
            "Train: X=(60000, 28, 28, 1), y=(60000, 10)\n",
            "Test: X=(10000, 28, 28, 1), y=(10000, 10)\n"
          ]
        }
      ]
    },
    {
      "cell_type": "markdown",
      "metadata": {
        "id": "n9yRAf-a8R-6"
      },
      "source": [
        "# Block 4 - Model Definition\n"
      ]
    },
    {
      "cell_type": "code",
      "metadata": {
        "id": "iXY1vh6qKUj7"
      },
      "source": [
        "def define_model():\n",
        "  model = Sequential()\n",
        "\n",
        "  # Convolution layer with 32 kernels of [3*3]\n",
        "  model.add(Conv2D(32, (3, 3), activation='relu', kernel_initializer='he_uniform', input_shape=(28, 28, 1)))\n",
        "  # Max Pooling with [2*2]\n",
        "  model.add(MaxPooling2D((2, 2)))\n",
        "  model.add(Flatten())\n",
        "\n",
        "  # First layer of Fully connected layer with 100 nodes\n",
        "  model.add(Dense(100, activation='relu', kernel_initializer='he_uniform'))\n",
        "  # Output layer with 10 nodes\n",
        "  model.add(Dense(10, activation='softmax'))\n",
        "\n",
        "  # compile model\n",
        "  opt = SGD(lr=0.01, momentum=0.9)\n",
        "  model.compile(optimizer=opt, loss='categorical_crossentropy', metrics=['accuracy'])\n",
        "\n",
        "  return model"
      ],
      "execution_count": 7,
      "outputs": []
    },
    {
      "cell_type": "markdown",
      "metadata": {
        "id": "YGU283lc8WNp"
      },
      "source": [
        "# Block 5 - Model Evaluation\n"
      ]
    },
    {
      "cell_type": "code",
      "metadata": {
        "id": "aZoBp0B_KX2t",
        "outputId": "41b273ff-6c8b-4935-e4db-e101ac0e9c12",
        "colab": {
          "base_uri": "https://localhost:8080/"
        }
      },
      "source": [
        "scores, histories = list(), list()\n",
        "\n",
        "# 2 fold cross validation\n",
        "kfold = KFold(2, shuffle=True, random_state=1)\n",
        "\n",
        "# enumerate splits\n",
        "for train_ix, test_ix in kfold.split(trainX):\n",
        "\tmodel = define_model()\n",
        "\t# select rows for train and test\n",
        "\ttrainX_temp, trainY_temp, testX_temp, testY_temp = trainX[train_ix], trainY[train_ix], trainX[test_ix], trainY[test_ix]\n",
        "\t# fit model\n",
        "\thistory = model.fit(trainX_temp, trainY_temp, epochs=10, batch_size=32, validation_data=(testX_temp, testY_temp), verbose=0)\n",
        "\t# evaluate model\n",
        "\t_, acc = model.evaluate(testX_temp, testY_temp, verbose=0)\n",
        "\tprint('> %.3f' % (acc * 100.0))\n",
        "\t# stores scores\n",
        "\tscores.append(acc)\n",
        "\thistories.append(history)\n",
        "\n"
      ],
      "execution_count": 8,
      "outputs": [
        {
          "output_type": "stream",
          "name": "stderr",
          "text": [
            "WARNING:absl:`lr` is deprecated in Keras optimizer, please use `learning_rate` or use the legacy optimizer, e.g.,tf.keras.optimizers.legacy.SGD.\n",
            "WARNING:absl:`lr` is deprecated in Keras optimizer, please use `learning_rate` or use the legacy optimizer, e.g.,tf.keras.optimizers.legacy.SGD.\n"
          ]
        },
        {
          "output_type": "stream",
          "name": "stdout",
          "text": [
            "> 98.320\n",
            "> 98.383\n"
          ]
        }
      ]
    },
    {
      "cell_type": "markdown",
      "metadata": {
        "id": "xKgx85Il8aTG"
      },
      "source": [
        "# Block 6 - Plot learning curves\n"
      ]
    },
    {
      "cell_type": "code",
      "metadata": {
        "id": "KChMvIyvKdUr",
        "outputId": "ff54c16e-8188-4545-9075-2747f428561e",
        "colab": {
          "base_uri": "https://localhost:8080/",
          "height": 452
        }
      },
      "source": [
        "# Block 7 - Plot learning curves\n",
        "\n",
        "for i in range(len(histories)):\n",
        "\t# plot loss\n",
        "\tpyplot.subplot(2, 1, 1)\n",
        "\tpyplot.title('Cross Entropy Loss')\n",
        "\tpyplot.plot(histories[i].history['loss'], color='blue', label='train')\n",
        "\tpyplot.plot(histories[i].history['val_loss'], color='orange', label='test')\n",
        "\n",
        "\t# plot accuracy\n",
        "\tpyplot.subplot(2, 1, 2)\n",
        "\tpyplot.title('Classification Accuracy')\n",
        "\tpyplot.plot(histories[i].history['accuracy'], color='blue', label='train')\n",
        "\tpyplot.plot(histories[i].history['val_accuracy'], color='orange', label='test')\n",
        "pyplot.show()"
      ],
      "execution_count": 9,
      "outputs": [
        {
          "output_type": "display_data",
          "data": {
            "text/plain": [
              "<Figure size 640x480 with 2 Axes>"
            ],
            "image/png": "[encoded data removed]"
          },
          "metadata": {}
        }
      ]
    },
    {
      "cell_type": "markdown",
      "metadata": {
        "id": "957BF6cR8dU8"
      },
      "source": [
        "# Block 7 - Summarise model performance\n"
      ]
    },
    {
      "cell_type": "code",
      "metadata": {
        "id": "0Ay8lEisoMBr",
        "outputId": "2fff6aa6-3ba4-4d99-dc4d-307e960aa11d",
        "colab": {
          "base_uri": "https://localhost:8080/",
          "height": 447
        }
      },
      "source": [
        "print('Accuracy: mean=%.3f std=%.3f, n=%d' % (mean(scores)*100, std(scores)*100, len(scores)))\n",
        "# box and whisker plots of results\n",
        "pyplot.boxplot(scores)\n",
        "pyplot.show()"
      ],
      "execution_count": 10,
      "outputs": [
        {
          "output_type": "stream",
          "name": "stdout",
          "text": [
            "Accuracy: mean=98.352 std=0.032, n=2\n"
          ]
        },
        {
          "output_type": "display_data",
          "data": {
            "text/plain": [
              "<Figure size 640x480 with 1 Axes>"
            ],
            "image/png": "[encoded data removed]"
          },
          "metadata": {}
        }
      ]
    },
    {
      "cell_type": "markdown",
      "metadata": {
        "id": "OxsGY54P8iLw"
      },
      "source": [
        "# Block 8 - Final evaluation\n"
      ]
    },
    {
      "cell_type": "code",
      "metadata": {
        "id": "jfmGBGw0xcpE",
        "outputId": "ae168a42-9ea2-4b73-ca7a-82c7d8e4b9bc",
        "colab": {
          "base_uri": "https://localhost:8080/"
        }
      },
      "source": [
        "model = define_model()\n",
        "model.fit(trainX, trainY, epochs=10, batch_size=32, verbose=0)\n",
        "_, acc = model.evaluate(testX, testY, verbose=0)\n",
        "print('> %.3f' % (acc * 100.0))\n"
      ],
      "execution_count": null,
      "outputs": [
        {
          "output_type": "stream",
          "name": "stderr",
          "text": [
            "WARNING:absl:`lr` is deprecated in Keras optimizer, please use `learning_rate` or use the legacy optimizer, e.g.,tf.keras.optimizers.legacy.SGD.\n"
          ]
        }
      ]
    }
  ]
}