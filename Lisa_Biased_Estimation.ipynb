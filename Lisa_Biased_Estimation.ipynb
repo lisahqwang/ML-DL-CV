{
  "nbformat": 4,
  "nbformat_minor": 0,
  "metadata": {
    "colab": {
      "provenance": [],
      "authorship_tag": "ABX9TyNCDkC7qDAp8nBxbNs4XEwQ",
      "include_colab_link": true
    },
    "kernelspec": {
      "name": "python3",
      "display_name": "Python 3"
    },
    "language_info": {
      "name": "python"
    }
  },
  "cells": [
    {
      "cell_type": "markdown",
      "metadata": {
        "id": "view-in-github",
        "colab_type": "text"
      },
      "source": [
        "<a href=\"https://colab.research.google.com/github/lisahqwang/ML-DL-CV/blob/main/Lisa_Biased_Estimation.ipynb\" target=\"_parent\"><img src=\"https://colab.research.google.com/assets/colab-badge.svg\" alt=\"Open In Colab\"/></a>"
      ]
    },
    {
      "cell_type": "markdown",
      "source": [
        "# Biased Estimation Optimization"
      ],
      "metadata": {
        "id": "AcxB_jYvoTIt"
      }
    },
    {
      "cell_type": "code",
      "source": [
        "import numpy as np\n",
        "import matplotlib.pyplot as plt"
      ],
      "metadata": {
        "id": "Ey3h5sKZheUW"
      },
      "execution_count": 3,
      "outputs": []
    },
    {
      "cell_type": "markdown",
      "source": [
        "## **Setting a Reference Point for linear approximation**\n",
        "\n",
        "\n",
        "A common deterministic (and therefore typically biased) approximation is a firstorder Taylor expansion. Concretely, for:\n",
        "\n",
        "\n",
        "$$\n",
        "y=\\operatorname{GELU}(W x) \\quad \\in \\mathrm{R}^d\n",
        "$$\n",
        "we pick a reference point $\\bar{x}$ (or equivalently $\\bar{z}=W \\bar{x}$ ) and do\n",
        "\n",
        "\n",
        "$$\n",
        "\\operatorname{GELU}(W x) \\approx \\operatorname{GELU}(\\bar{z})+\\operatorname{diag}\\left(\\operatorname{GELU}^{\\prime}(\\bar{z})\\right)[W(x-\\bar{x})]\n",
        "$$\n",
        "\n",
        "\n",
        "We can write this approximation in the form:\n",
        "\n",
        "\n",
        "$$\n",
        "\\Phi(W) \\Psi(x)\n",
        "$$\n",
        "by letting (for each dimension $d$ ):\n",
        "- $\\Phi(W)=\\left[\\operatorname{diag}\\left(\\operatorname{GELU}^{\\prime}(\\bar{z})\\right) W, \\operatorname{GELU}(\\bar{z})\\right]_{\\text {, }}$\n",
        "- $\\Psi(x)=\\left[\\begin{array}{c}x-\\bar{x} \\\\ 1\\end{array}\\right]$.\n",
        "\n"
      ],
      "metadata": {
        "id": "qHItLzITyePc"
      }
    },
    {
      "cell_type": "code",
      "source": [
        "#setting d = 10\n",
        "d = 10\n",
        "\n",
        "x = np.random.normal(loc=0, scale=1, size=(d, 1))\n",
        "print(\"Layer shape of x: \", x.shape)\n",
        "print(x)\n",
        "\n",
        "W = np.random.normal(loc=0, scale=1, size=(d, d))\n",
        "print('\\n')\n",
        "print(\"Layer shape of W: \", W.shape)\n",
        "print(W)"
      ],
      "metadata": {
        "colab": {
          "base_uri": "https://localhost:8080/"
        },
        "id": "HBo3238K-7VD",
        "outputId": "eae38d28-3576-436a-e71c-018b67693714"
      },
      "execution_count": 7,
      "outputs": [
        {
          "output_type": "stream",
          "name": "stdout",
          "text": [
            "Layer shape of x:  (10, 1)\n",
            "[[-0.55765566]\n",
            " [ 1.69378792]\n",
            " [ 1.03214268]\n",
            " [-0.27551954]\n",
            " [-0.27756137]\n",
            " [-1.73018594]\n",
            " [ 0.63939021]\n",
            " [-1.28047162]\n",
            " [ 1.83737787]\n",
            " [-2.16822452]]\n",
            "\n",
            "\n",
            "Layer shape of W:  (10, 10)\n",
            "[[-8.46682110e-01  1.36505708e+00  2.87656891e-01  3.34626730e-02\n",
            "  -1.58077441e+00  1.89346175e+00 -1.40672095e-02  5.58742600e-01\n",
            "   6.09605443e-01  3.22708705e-01]\n",
            " [ 3.57451349e-01 -7.13440647e-01  7.13866295e-01 -4.58936059e-01\n",
            "  -2.50448391e-01 -8.10998777e-01 -2.02573613e+00 -1.43472654e+00\n",
            "  -3.35744874e-01  1.60178692e-01]\n",
            " [ 1.31720013e+00  1.47845566e+00 -1.00296605e+00 -1.67803973e+00\n",
            "   1.32427531e-01 -2.93137181e-01 -1.72885499e+00  2.45018982e-03\n",
            "   6.90338349e-01 -4.79449786e-01]\n",
            " [-8.72493225e-01  4.48415981e-01 -3.03120788e-01 -5.01516041e-01\n",
            "   5.00113641e-01  3.56554023e-02 -5.64200909e-01 -3.23042210e-01\n",
            "  -6.70337693e-01  6.80801971e-01]\n",
            " [ 1.43276668e+00  5.24343867e-01 -1.49716112e+00 -6.13185707e-01\n",
            "  -2.16403086e+00  1.10373946e+00  5.71222686e-01  1.75877006e+00\n",
            "   4.12738310e-01 -9.12662650e-03]\n",
            " [-2.94535480e-01 -1.76689266e+00  1.01093702e+00  7.49117633e-01\n",
            "   4.57662526e-01  8.38397709e-01  8.74248379e-01  2.95929851e-02\n",
            "  -2.85378434e-01  3.90083318e-01]\n",
            " [ 6.88928480e-01 -1.15432592e-01 -3.82551038e-01  3.42107162e+00\n",
            "   3.06037827e-01  2.43647909e-01  4.57640547e-01  5.66272348e-01\n",
            "   2.99942255e-01 -1.85327735e+00]\n",
            " [ 8.50929957e-01 -2.52881783e-02 -5.78530476e-01 -1.44955697e+00\n",
            "  -4.25938445e-01  3.13921609e-01 -1.19430035e-01 -5.81323653e-01\n",
            "  -1.06523817e+00  6.90835037e-01]\n",
            " [ 9.80251445e-01  8.71694509e-02 -1.02755091e+00 -2.58843090e-01\n",
            "   1.04186919e+00  4.53171604e-01  1.37656919e+00  2.57697338e-02\n",
            "  -1.53866044e-01  6.29618368e-01]\n",
            " [-1.49841435e+00 -4.70558658e-01 -3.74217973e-01  3.34758025e-01\n",
            "  -3.12278228e-01  5.39542004e-01  2.02090011e+00  2.88365741e-01\n",
            "   1.75348322e-01 -2.25949141e+00]]\n"
          ]
        }
      ]
    },
    {
      "cell_type": "code",
      "source": [
        "reference_point_z_bar = np.matmul(W, x)\n",
        "print(\"reference_point_z_bar shape: \", reference_point_z_bar.shape)\n",
        "print(\"reference_point_z_bar: \", reference_point_z_bar)"
      ],
      "metadata": {
        "colab": {
          "base_uri": "https://localhost:8080/"
        },
        "id": "kyJ1C9kd9Ld6",
        "outputId": "ba355378-ac20-4735-bccf-737c474ead30"
      },
      "execution_count": 8,
      "outputs": [
        {
          "output_type": "stream",
          "name": "stdout",
          "text": [
            "reference_point_z_bar shape:  (10, 1)\n",
            "reference_point_z_bar:  [[-0.06939925]\n",
            " [ 0.50589647]\n",
            " [ 2.86661679]\n",
            " [-1.7840101 ]\n",
            " [-3.70490166]\n",
            " [-4.4181141 ]\n",
            " [ 1.71332087]\n",
            " [-3.9271466 ]\n",
            " [-3.26220939]\n",
            " [ 4.85742775]]\n"
          ]
        }
      ]
    },
    {
      "cell_type": "markdown",
      "source": [
        "\n",
        "\n",
        "\n",
        "**The Derivative of GELU (tanh approximation) is:**\n",
        "\n",
        "$\n",
        "\\frac{\\tanh\\left(\\frac{\\sqrt{2} \\left(\\frac{8943x^{3}}{200000} + x\\right)}{\\sqrt{\\pi}}\\right) + 1}{2} + \\frac{x \\left(\\frac{26829x^{2}}{200000} + 1\\right) \\operatorname{sech}^{2}\\left(\\frac{\\sqrt{2} \\left(\\frac{8943x^{3}}{200000} + x\\right)}{\\sqrt{\\pi}}\\right)}{\\sqrt{2} \\sqrt{\\pi}}\n",
        "$"
      ],
      "metadata": {
        "id": "KTCI--yFJf2I"
      }
    },
    {
      "cell_type": "markdown",
      "source": [
        "\n",
        "- $\\Phi(W)=\\left[\\operatorname{diag}\\left(\\operatorname{GELU}^{\\prime}(\\bar{z})\\right) W, \\operatorname{GELU}(\\bar{z})\\right]_{\\text {, }}$\n",
        "- $\\Psi(x)=\\left[\\begin{array}{c}x-\\bar{x} \\\\ 1\\end{array}\\right]$."
      ],
      "metadata": {
        "id": "z1T14EaGL9sB"
      }
    },
    {
      "source": [
        "#import sympy\n",
        "# Use sympy functions for symbolic calculations, including sympy.tanh and sympy.sqrt\n",
        "#f = 0.5 * x * (1 + np.tanh(np.sqrt(2 / np.pi) * (x + 0.044715 * x**3)))\n",
        "#df_dx = sympy.diff(f, x)\n",
        "\n",
        "def gelu_tanh(x):\n",
        "    return 0.5 * x * (1 + np.tanh(np.sqrt(2/np.pi) * (x + 0.044715 * np.power(x, 3))))\n",
        "\n",
        "def sech(x):\n",
        "  #just sech(x)\n",
        "  return 1 / np.cosh(x)\n",
        "\n",
        "def df_dx(x):\n",
        "  df_dx = (np.tanh((np.sqrt(2) * ((8943 * x**3) / 200000 + x)) / np.sqrt(np.pi)) + 1) / 2 + (x * ((26829 * x**2) / 200000 + 1) * sech((np.sqrt(2) * ((8943 * x**3) / 200000 + x)) / np.sqrt(np.pi))**2) / (np.sqrt(2) * np.sqrt(np.pi))\n",
        "  return df_dx\n",
        "\n",
        "print(\"original equation: 0.5 * x * (1 + tanh(sqrt(2 /π) * (x + 0.044715 * x**3)))\" )\n",
        "print(\"\")\n",
        "print(\"shape of derivative equation output: \", df_dx(reference_point_z_bar).shape)\n",
        "print(\"derivative equation output: \", df_dx(reference_point_z_bar))\n",
        "\n",
        "#\n",
        "#print(\"\")\n",
        "#print(\"derivative at reference point: \", df_dx_at_reference_point_z_bar)"
      ],
      "cell_type": "code",
      "metadata": {
        "colab": {
          "base_uri": "https://localhost:8080/"
        },
        "id": "Bm49428APH5R",
        "outputId": "f1b8b9f8-5515-4237-91e5-e955c0260a37"
      },
      "execution_count": 30,
      "outputs": [
        {
          "output_type": "stream",
          "name": "stdout",
          "text": [
            "original equation: 0.5 * x * (1 + tanh(sqrt(2 /π) * (x + 0.044715 * x**3)))\n",
            "\n",
            "shape of derivative equation output:  (10, 1)\n",
            "derivative equation output:  [[ 4.44716647e-01]\n",
            " [ 8.70987700e-01]\n",
            " [ 1.01647950e+00]\n",
            " [-1.08446861e-01]\n",
            " [-1.13499040e-03]\n",
            " [-4.51812686e-05]\n",
            " [ 1.11480479e+00]\n",
            " [-4.59488172e-04]\n",
            " [-5.35531522e-03]\n",
            " [ 1.00000378e+00]]\n"
          ]
        }
      ]
    },
    {
      "source": [
        "phi = [np.matmul(W, df_dx(reference_point_z_bar)), gelu_tanh(reference_point_z_bar[0])]\n",
        "print(\"W: \", W.shape)\n",
        "\n",
        "psi = [x - reference_point_z_bar, 1]\n",
        "#print(\"phi shape: \", phi.shape) # phi is a list and does not have shape attribute\n",
        "print(\"phi shape: \", [arr.shape for arr in phi]) # Print shape of each array in phi\n",
        "print(\"phi: \", phi)\n",
        "print(\"psi shape: \", [arr.shape if isinstance(arr, np.ndarray) else arr for arr in psi]) # Print shape of ndarray or value in psi\n",
        "print(\"psi: \", psi)"
      ],
      "cell_type": "code",
      "metadata": {
        "colab": {
          "base_uri": "https://localhost:8080/"
        },
        "id": "IN_XrxVWjtzV",
        "outputId": "9b034986-2bad-4459-c145-f32faca0b3cb"
      },
      "execution_count": 34,
      "outputs": [
        {
          "output_type": "stream",
          "name": "stdout",
          "text": [
            "W:  (10, 10)\n",
            "phi shape:  [(10, 1), (1,)]\n",
            "phi:  [array([[ 1.40639768],\n",
            "       [-1.78237573],\n",
            "       [-1.37464135],\n",
            "       [-0.19617595],\n",
            "       [ 0.26559968],\n",
            "       [ 0.64208913],\n",
            "       [-1.89935148],\n",
            "       [ 0.48967009],\n",
            "       [ 1.6592798 ],\n",
            "       [-1.50024129]]), array([-0.03277977])]\n",
            "psi shape:  [(10, 1), 1]\n",
            "psi:  [array([[-0.48825641],\n",
            "       [ 1.18789145],\n",
            "       [-1.83447412],\n",
            "       [ 1.50849056],\n",
            "       [ 3.4273403 ],\n",
            "       [ 2.68792816],\n",
            "       [-1.07393066],\n",
            "       [ 2.64667498],\n",
            "       [ 5.09958726],\n",
            "       [-7.02565228]]), 1]\n"
          ]
        }
      ]
    },
    {
      "cell_type": "markdown",
      "source": [
        "# **This concludes the biased section**\n",
        "We can concluside that this biased prediction of psi and phi works upon establishing a random chosen point z_bar, and is not done over trials and many iterations."
      ],
      "metadata": {
        "id": "cR1RlDftIc1A"
      }
    }
  ]
}